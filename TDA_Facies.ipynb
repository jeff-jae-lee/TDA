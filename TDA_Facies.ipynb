{
 "cells": [
  {
   "cell_type": "markdown",
   "metadata": {},
   "source": [
    "## TDA: Optimizing NN hyper-parameters with Bayesian"
   ]
  },
  {
   "cell_type": "code",
   "execution_count": 148,
   "metadata": {},
   "outputs": [
    {
     "name": "stdout",
     "output_type": "stream",
     "text": [
      "<class 'pandas.core.frame.DataFrame'>\n",
      "RangeIndex: 3232 entries, 0 to 3231\n",
      "Data columns (total 11 columns):\n",
      " #   Column     Non-Null Count  Dtype  \n",
      "---  ------     --------------  -----  \n",
      " 0   Facies     3232 non-null   int64  \n",
      " 1   Formation  3232 non-null   object \n",
      " 2   Well Name  3232 non-null   object \n",
      " 3   Depth      3232 non-null   float64\n",
      " 4   GR         3232 non-null   float64\n",
      " 5   ILD_log10  3232 non-null   float64\n",
      " 6   DeltaPHI   3232 non-null   float64\n",
      " 7   PHIND      3232 non-null   float64\n",
      " 8   PE         3232 non-null   float64\n",
      " 9   NM_M       3232 non-null   int64  \n",
      " 10  RELPOS     3232 non-null   float64\n",
      "dtypes: float64(7), int64(2), object(2)\n",
      "memory usage: 277.9+ KB\n"
     ]
    }
   ],
   "source": [
    "# Load in data\n",
    "import pandas as pd\n",
    "df = pd.read_csv(\"Data\\Well_Log_Facies.csv\")\n",
    "df.info()"
   ]
  },
  {
   "cell_type": "markdown",
   "metadata": {},
   "source": [
    "Predict facies."
   ]
  },
  {
   "cell_type": "code",
   "execution_count": 149,
   "metadata": {},
   "outputs": [],
   "source": [
    "# Shuffle dataframe using sample function\n",
    "df = df.sample(frac=1)\n",
    "\n",
    "# Select ratio\n",
    "train_ratio = 0.8\n",
    "val_ratio = 0.25\n",
    "\n",
    "total_rows = df.shape[0]\n",
    "train_size = int(total_rows*train_ratio)\n",
    " \n",
    "# Split data into test and train\n",
    "train_df = df[0:train_size]\n",
    "test_df = df[train_size:]\n",
    "\n",
    "train_df = train_df.sample(frac = 1)\n",
    "\n",
    "# Validation Set\n",
    "val_size = int(train_df.shape[0]*val_ratio)\n",
    "val_df = train_df[0:val_size]\n",
    "\n",
    "\n"
   ]
  },
  {
   "cell_type": "code",
   "execution_count": 150,
   "metadata": {},
   "outputs": [
    {
     "name": "stdout",
     "output_type": "stream",
     "text": [
      "<class 'pandas.core.frame.DataFrame'>\n",
      "Index: 2585 entries, 131 to 2210\n",
      "Data columns (total 11 columns):\n",
      " #   Column     Non-Null Count  Dtype  \n",
      "---  ------     --------------  -----  \n",
      " 0   Facies     2585 non-null   int64  \n",
      " 1   Formation  2585 non-null   object \n",
      " 2   Well Name  2585 non-null   object \n",
      " 3   Depth      2585 non-null   float64\n",
      " 4   GR         2585 non-null   float64\n",
      " 5   ILD_log10  2585 non-null   float64\n",
      " 6   DeltaPHI   2585 non-null   float64\n",
      " 7   PHIND      2585 non-null   float64\n",
      " 8   PE         2585 non-null   float64\n",
      " 9   NM_M       2585 non-null   int64  \n",
      " 10  RELPOS     2585 non-null   float64\n",
      "dtypes: float64(7), int64(2), object(2)\n",
      "memory usage: 242.3+ KB\n"
     ]
    }
   ],
   "source": [
    "train_df.info()"
   ]
  },
  {
   "cell_type": "markdown",
   "metadata": {},
   "source": [
    "### Generate Synthetic Data"
   ]
  },
  {
   "cell_type": "code",
   "execution_count": 151,
   "metadata": {},
   "outputs": [
    {
     "name": "stdout",
     "output_type": "stream",
     "text": [
      "<class 'pandas.core.frame.DataFrame'>\n",
      "Index: 2585 entries, 131 to 2210\n",
      "Data columns (total 12 columns):\n",
      " #   Column     Non-Null Count  Dtype  \n",
      "---  ------     --------------  -----  \n",
      " 0   Facies     2585 non-null   int64  \n",
      " 1   Formation  2585 non-null   object \n",
      " 2   Well Name  2585 non-null   object \n",
      " 3   Depth      2585 non-null   float64\n",
      " 4   GR         2585 non-null   float64\n",
      " 5   ILD_log10  2585 non-null   float64\n",
      " 6   DeltaPHI   2585 non-null   float64\n",
      " 7   PHIND      2585 non-null   float64\n",
      " 8   PE         2585 non-null   float64\n",
      " 9   NM_M       2585 non-null   int64  \n",
      " 10  RELPOS     2585 non-null   float64\n",
      " 11  Index      2585 non-null   string \n",
      "dtypes: float64(7), int64(2), object(2), string(1)\n",
      "memory usage: 262.5+ KB\n"
     ]
    }
   ],
   "source": [
    "# Create unique identifying column that must be string\n",
    "train_df = train_df.assign(Index = range(len(train_df)))\n",
    "train_df['Index'] = train_df['Index'].astype('string')\n",
    "train_df.info()"
   ]
  },
  {
   "cell_type": "code",
   "execution_count": 152,
   "metadata": {},
   "outputs": [],
   "source": [
    "train_df = train_df.drop(['Formation', 'Well Name'], axis = 1)\n",
    "test_df = test_df.drop(['Formation', 'Well Name'], axis = 1)\n",
    "val_df = val_df.drop(['Formation', 'Well Name'], axis = 1)"
   ]
  },
  {
   "cell_type": "code",
   "execution_count": 153,
   "metadata": {},
   "outputs": [
    {
     "data": {
      "text/plain": [
       "array([[<AxesSubplot: title={'center': 'Facies'}>,\n",
       "        <AxesSubplot: title={'center': 'Depth'}>,\n",
       "        <AxesSubplot: title={'center': 'GR'}>],\n",
       "       [<AxesSubplot: title={'center': 'ILD_log10'}>,\n",
       "        <AxesSubplot: title={'center': 'DeltaPHI'}>,\n",
       "        <AxesSubplot: title={'center': 'PHIND'}>],\n",
       "       [<AxesSubplot: title={'center': 'PE'}>,\n",
       "        <AxesSubplot: title={'center': 'NM_M'}>,\n",
       "        <AxesSubplot: title={'center': 'RELPOS'}>]], dtype=object)"
      ]
     },
     "execution_count": 153,
     "metadata": {},
     "output_type": "execute_result"
    },
    {
     "data": {
      "image/png": "[encoded data removed]",
      "text/plain": [
       "<Figure size 720x720 with 9 Axes>"
      ]
     },
     "metadata": {
      "needs_background": "light"
     },
     "output_type": "display_data"
    }
   ],
   "source": [
    "train_df.hist(bins= 75, figsize= (10,10))"
   ]
  },
  {
   "cell_type": "code",
   "execution_count": 154,
   "metadata": {},
   "outputs": [],
   "source": [
    "# Create Metadata\n",
    "from sdv.metadata import SingleTableMetadata\n",
    "\n",
    "# Intialize\n",
    "metadata = SingleTableMetadata()\n",
    "\n",
    "# Obtain metadata\n",
    "metadata.detect_from_dataframe(data = train_df)\n",
    "\n",
    "# Update metadata metadata for Facies and Index\n",
    "\n",
    "metadata.update_column(\n",
    "    column_name = 'Facies',\n",
    "    sdtype = 'categorical'\n",
    ")\n",
    "\n",
    "metadata.update_column(\n",
    "    column_name = 'Index',\n",
    "    sdtype = 'id',\n",
    "    regex_format = '[0-9]{1,4}'\n",
    ")\n",
    "\n",
    "# Set Primary Key\n",
    "metadata.set_primary_key(\n",
    "    column_name = 'Index'\n",
    ")"
   ]
  },
  {
   "cell_type": "code",
   "execution_count": 155,
   "metadata": {},
   "outputs": [
    {
     "name": "stderr",
     "output_type": "stream",
     "text": [
      "c:\\Users\\Jeff\\anaconda3\\envs\\GenAI_DL\\Lib\\site-packages\\rdt\\transformers\\base.py:132: FutureWarning: Future versions of RDT will not support the 'model_missing_values' parameter. Please switch to using the 'missing_value_generation' parameter to select your strategy.\n",
      "  warnings.warn(\n",
      "c:\\Users\\Jeff\\anaconda3\\envs\\GenAI_DL\\Lib\\site-packages\\rdt\\transformers\\base.py:132: FutureWarning: Future versions of RDT will not support the 'model_missing_values' parameter. Please switch to using the 'missing_value_generation' parameter to select your strategy.\n",
      "  warnings.warn(\n",
      "c:\\Users\\Jeff\\anaconda3\\envs\\GenAI_DL\\Lib\\site-packages\\rdt\\transformers\\base.py:132: FutureWarning: Future versions of RDT will not support the 'model_missing_values' parameter. Please switch to using the 'missing_value_generation' parameter to select your strategy.\n",
      "  warnings.warn(\n",
      "c:\\Users\\Jeff\\anaconda3\\envs\\GenAI_DL\\Lib\\site-packages\\rdt\\transformers\\base.py:132: FutureWarning: Future versions of RDT will not support the 'model_missing_values' parameter. Please switch to using the 'missing_value_generation' parameter to select your strategy.\n",
      "  warnings.warn(\n",
      "c:\\Users\\Jeff\\anaconda3\\envs\\GenAI_DL\\Lib\\site-packages\\rdt\\transformers\\base.py:132: FutureWarning: Future versions of RDT will not support the 'model_missing_values' parameter. Please switch to using the 'missing_value_generation' parameter to select your strategy.\n",
      "  warnings.warn(\n",
      "c:\\Users\\Jeff\\anaconda3\\envs\\GenAI_DL\\Lib\\site-packages\\rdt\\transformers\\base.py:132: FutureWarning: Future versions of RDT will not support the 'model_missing_values' parameter. Please switch to using the 'missing_value_generation' parameter to select your strategy.\n",
      "  warnings.warn(\n",
      "c:\\Users\\Jeff\\anaconda3\\envs\\GenAI_DL\\Lib\\site-packages\\rdt\\transformers\\base.py:132: FutureWarning: Future versions of RDT will not support the 'model_missing_values' parameter. Please switch to using the 'missing_value_generation' parameter to select your strategy.\n",
      "  warnings.warn(\n",
      "c:\\Users\\Jeff\\anaconda3\\envs\\GenAI_DL\\Lib\\site-packages\\rdt\\transformers\\base.py:132: FutureWarning: Future versions of RDT will not support the 'model_missing_values' parameter. Please switch to using the 'missing_value_generation' parameter to select your strategy.\n",
      "  warnings.warn(\n"
     ]
    },
    {
     "name": "stdout",
     "output_type": "stream",
     "text": [
      "Epoch 1, Loss G:  2.1658,Loss D: -0.0160\n",
      "Epoch 2, Loss G:  2.1314,Loss D: -0.0130\n",
      "Epoch 3, Loss G:  1.9806,Loss D: -0.0684\n",
      "Epoch 4, Loss G:  1.8800,Loss D:  0.0675\n",
      "Epoch 5, Loss G:  1.6520,Loss D:  0.1116\n",
      "Epoch 6, Loss G:  1.6414,Loss D:  0.1403\n",
      "Epoch 7, Loss G:  1.6871,Loss D:  0.0572\n",
      "Epoch 8, Loss G:  1.6029,Loss D:  0.0472\n",
      "Epoch 9, Loss G:  1.5584,Loss D: -0.1503\n",
      "Epoch 10, Loss G:  1.6338,Loss D: -0.1973\n",
      "Epoch 11, Loss G:  1.7400,Loss D: -0.2390\n",
      "Epoch 12, Loss G:  1.5251,Loss D: -0.0458\n",
      "Epoch 13, Loss G:  1.3686,Loss D:  0.1045\n",
      "Epoch 14, Loss G:  1.3113,Loss D:  0.1624\n",
      "Epoch 15, Loss G:  1.3306,Loss D:  0.1848\n",
      "Epoch 16, Loss G:  1.2044,Loss D:  0.1698\n",
      "Epoch 17, Loss G:  1.2244,Loss D:  0.0450\n",
      "Epoch 18, Loss G:  1.0648,Loss D:  0.0137\n",
      "Epoch 19, Loss G:  1.0524,Loss D:  0.1553\n",
      "Epoch 20, Loss G:  1.0104,Loss D: -0.0027\n",
      "Epoch 21, Loss G:  0.9180,Loss D:  0.0531\n",
      "Epoch 22, Loss G:  0.8968,Loss D:  0.0075\n",
      "Epoch 23, Loss G:  0.8448,Loss D:  0.0491\n",
      "Epoch 24, Loss G:  0.7606,Loss D: -0.0929\n",
      "Epoch 25, Loss G:  0.7313,Loss D: -0.0061\n",
      "Epoch 26, Loss G:  0.7167,Loss D: -0.0983\n",
      "Epoch 27, Loss G:  0.6211,Loss D:  0.0776\n",
      "Epoch 28, Loss G:  0.5844,Loss D: -0.1371\n",
      "Epoch 29, Loss G:  0.5037,Loss D: -0.1576\n",
      "Epoch 30, Loss G:  0.5170,Loss D: -0.0723\n",
      "Epoch 31, Loss G:  0.4252,Loss D:  0.0658\n",
      "Epoch 32, Loss G:  0.2974,Loss D:  0.0018\n",
      "Epoch 33, Loss G:  0.2238,Loss D:  0.0577\n",
      "Epoch 34, Loss G:  0.0829,Loss D:  0.1249\n",
      "Epoch 35, Loss G:  0.1250,Loss D:  0.0991\n",
      "Epoch 36, Loss G:  0.0232,Loss D:  0.0611\n",
      "Epoch 37, Loss G: -0.0998,Loss D:  0.1478\n",
      "Epoch 38, Loss G: -0.1489,Loss D:  0.1346\n",
      "Epoch 39, Loss G: -0.0698,Loss D: -0.0201\n",
      "Epoch 40, Loss G: -0.0302,Loss D: -0.0021\n",
      "Epoch 41, Loss G: -0.1246,Loss D: -0.0719\n",
      "Epoch 42, Loss G: -0.3031,Loss D: -0.0388\n",
      "Epoch 43, Loss G: -0.3888,Loss D: -0.0039\n",
      "Epoch 44, Loss G: -0.5122,Loss D:  0.0610\n",
      "Epoch 45, Loss G: -0.4685,Loss D: -0.0086\n",
      "Epoch 46, Loss G: -0.4807,Loss D: -0.1477\n",
      "Epoch 47, Loss G: -0.6540,Loss D:  0.0822\n",
      "Epoch 48, Loss G: -0.6221,Loss D:  0.0201\n",
      "Epoch 49, Loss G: -0.6354,Loss D:  0.0093\n",
      "Epoch 50, Loss G: -0.7093,Loss D: -0.1513\n",
      "Epoch 51, Loss G: -0.6360,Loss D: -0.0789\n",
      "Epoch 52, Loss G: -0.7620,Loss D: -0.0489\n",
      "Epoch 53, Loss G: -0.6354,Loss D: -0.0864\n",
      "Epoch 54, Loss G: -0.7082,Loss D:  0.0369\n",
      "Epoch 55, Loss G: -0.9228,Loss D: -0.0408\n",
      "Epoch 56, Loss G: -0.9405,Loss D:  0.1265\n",
      "Epoch 57, Loss G: -0.9943,Loss D:  0.1084\n",
      "Epoch 58, Loss G: -0.9543,Loss D:  0.0310\n",
      "Epoch 59, Loss G: -1.0602,Loss D:  0.1232\n",
      "Epoch 60, Loss G: -1.1522,Loss D:  0.0845\n",
      "Epoch 61, Loss G: -1.1973,Loss D:  0.0717\n",
      "Epoch 62, Loss G: -1.1467,Loss D:  0.0353\n",
      "Epoch 63, Loss G: -1.1750,Loss D: -0.0368\n",
      "Epoch 64, Loss G: -1.1228,Loss D: -0.0841\n",
      "Epoch 65, Loss G: -1.0977,Loss D: -0.1405\n",
      "Epoch 66, Loss G: -1.0305,Loss D: -0.0586\n",
      "Epoch 67, Loss G: -1.0643,Loss D: -0.0820\n",
      "Epoch 68, Loss G: -1.1111,Loss D: -0.1047\n",
      "Epoch 69, Loss G: -1.2225,Loss D:  0.0907\n",
      "Epoch 70, Loss G: -1.2715,Loss D:  0.1260\n",
      "Epoch 71, Loss G: -1.2298,Loss D: -0.0039\n",
      "Epoch 72, Loss G: -1.2648,Loss D: -0.1181\n",
      "Epoch 73, Loss G: -1.1200,Loss D: -0.0185\n",
      "Epoch 74, Loss G: -1.2911,Loss D: -0.0051\n",
      "Epoch 75, Loss G: -1.3272,Loss D:  0.0253\n",
      "Epoch 76, Loss G: -1.3682,Loss D: -0.1558\n",
      "Epoch 77, Loss G: -1.2651,Loss D: -0.1042\n",
      "Epoch 78, Loss G: -1.3663,Loss D:  0.0145\n",
      "Epoch 79, Loss G: -1.4000,Loss D:  0.0660\n",
      "Epoch 80, Loss G: -1.4025,Loss D:  0.1472\n",
      "Epoch 81, Loss G: -1.3580,Loss D:  0.0664\n",
      "Epoch 82, Loss G: -1.4168,Loss D:  0.0862\n",
      "Epoch 83, Loss G: -1.4628,Loss D: -0.0060\n",
      "Epoch 84, Loss G: -1.4569,Loss D:  0.1277\n",
      "Epoch 85, Loss G: -1.4277,Loss D: -0.0171\n",
      "Epoch 86, Loss G: -1.2876,Loss D: -0.0153\n",
      "Epoch 87, Loss G: -1.3707,Loss D: -0.0609\n",
      "Epoch 88, Loss G: -1.3037,Loss D: -0.0264\n",
      "Epoch 89, Loss G: -1.4267,Loss D:  0.1234\n",
      "Epoch 90, Loss G: -1.4188,Loss D:  0.0626\n",
      "Epoch 91, Loss G: -1.4239,Loss D:  0.0524\n",
      "Epoch 92, Loss G: -1.3713,Loss D: -0.1101\n",
      "Epoch 93, Loss G: -1.3431,Loss D: -0.0611\n",
      "Epoch 94, Loss G: -1.3821,Loss D: -0.1389\n",
      "Epoch 95, Loss G: -1.3541,Loss D: -0.1724\n",
      "Epoch 96, Loss G: -1.2660,Loss D: -0.0146\n",
      "Epoch 97, Loss G: -1.3657,Loss D:  0.1124\n",
      "Epoch 98, Loss G: -1.2919,Loss D: -0.1211\n",
      "Epoch 99, Loss G: -1.3494,Loss D: -0.0688\n",
      "Epoch 100, Loss G: -1.4715,Loss D: -0.0464\n",
      "Epoch 101, Loss G: -1.4910,Loss D:  0.0082\n",
      "Epoch 102, Loss G: -1.4745,Loss D: -0.0115\n",
      "Epoch 103, Loss G: -1.5071,Loss D: -0.0514\n",
      "Epoch 104, Loss G: -1.4884,Loss D: -0.0361\n",
      "Epoch 105, Loss G: -1.5377,Loss D: -0.0417\n",
      "Epoch 106, Loss G: -1.4977,Loss D: -0.0176\n",
      "Epoch 107, Loss G: -1.5227,Loss D: -0.1116\n",
      "Epoch 108, Loss G: -1.5567,Loss D: -0.0328\n",
      "Epoch 109, Loss G: -1.5480,Loss D: -0.0197\n",
      "Epoch 110, Loss G: -1.5023,Loss D: -0.0153\n",
      "Epoch 111, Loss G: -1.4535,Loss D: -0.0648\n",
      "Epoch 112, Loss G: -1.3966,Loss D: -0.0934\n",
      "Epoch 113, Loss G: -1.4923,Loss D: -0.0294\n",
      "Epoch 114, Loss G: -1.5751,Loss D:  0.1793\n",
      "Epoch 115, Loss G: -1.7022,Loss D:  0.0487\n",
      "Epoch 116, Loss G: -1.5732,Loss D: -0.0591\n",
      "Epoch 117, Loss G: -1.5290,Loss D: -0.0680\n",
      "Epoch 118, Loss G: -1.5009,Loss D: -0.0733\n",
      "Epoch 119, Loss G: -1.4431,Loss D: -0.0425\n",
      "Epoch 120, Loss G: -1.4940,Loss D: -0.0923\n",
      "Epoch 121, Loss G: -1.4577,Loss D: -0.1566\n",
      "Epoch 122, Loss G: -1.3580,Loss D: -0.0802\n",
      "Epoch 123, Loss G: -1.5082,Loss D:  0.1044\n",
      "Epoch 124, Loss G: -1.5107,Loss D:  0.0398\n",
      "Epoch 125, Loss G: -1.5709,Loss D:  0.1216\n",
      "Epoch 126, Loss G: -1.6190,Loss D:  0.0589\n",
      "Epoch 127, Loss G: -1.4366,Loss D:  0.0757\n",
      "Epoch 128, Loss G: -1.5208,Loss D:  0.0104\n",
      "Epoch 129, Loss G: -1.4806,Loss D: -0.0197\n",
      "Epoch 130, Loss G: -1.5098,Loss D: -0.0364\n",
      "Epoch 131, Loss G: -1.6096,Loss D:  0.0488\n",
      "Epoch 132, Loss G: -1.6138,Loss D:  0.0243\n",
      "Epoch 133, Loss G: -1.4796,Loss D:  0.0302\n",
      "Epoch 134, Loss G: -1.4538,Loss D: -0.0308\n",
      "Epoch 135, Loss G: -1.5254,Loss D: -0.1406\n",
      "Epoch 136, Loss G: -1.6270,Loss D: -0.0099\n",
      "Epoch 137, Loss G: -1.6655,Loss D:  0.1468\n",
      "Epoch 138, Loss G: -1.5976,Loss D:  0.0711\n",
      "Epoch 139, Loss G: -1.5476,Loss D: -0.1445\n",
      "Epoch 140, Loss G: -1.3895,Loss D: -0.1335\n",
      "Epoch 141, Loss G: -1.5507,Loss D: -0.0673\n",
      "Epoch 142, Loss G: -1.6022,Loss D:  0.0114\n",
      "Epoch 143, Loss G: -1.5748,Loss D:  0.1385\n",
      "Epoch 144, Loss G: -1.5274,Loss D: -0.0798\n",
      "Epoch 145, Loss G: -1.4487,Loss D: -0.2148\n",
      "Epoch 146, Loss G: -1.4086,Loss D: -0.1913\n",
      "Epoch 147, Loss G: -1.4998,Loss D: -0.0831\n",
      "Epoch 148, Loss G: -1.6256,Loss D:  0.0645\n",
      "Epoch 149, Loss G: -1.6441,Loss D:  0.1441\n",
      "Epoch 150, Loss G: -1.6333,Loss D:  0.1091\n",
      "Epoch 151, Loss G: -1.5946,Loss D: -0.1459\n",
      "Epoch 152, Loss G: -1.5288,Loss D: -0.0469\n",
      "Epoch 153, Loss G: -1.4263,Loss D: -0.0551\n",
      "Epoch 154, Loss G: -1.5249,Loss D: -0.0226\n",
      "Epoch 155, Loss G: -1.5911,Loss D: -0.0566\n",
      "Epoch 156, Loss G: -1.6474,Loss D: -0.0092\n",
      "Epoch 157, Loss G: -1.5199,Loss D: -0.0326\n",
      "Epoch 158, Loss G: -1.4560,Loss D: -0.1843\n",
      "Epoch 159, Loss G: -1.5661,Loss D:  0.0029\n",
      "Epoch 160, Loss G: -1.6413,Loss D:  0.0546\n",
      "Epoch 161, Loss G: -1.6066,Loss D: -0.0063\n",
      "Epoch 162, Loss G: -1.6257,Loss D:  0.0364\n",
      "Epoch 163, Loss G: -1.5810,Loss D: -0.0044\n",
      "Epoch 164, Loss G: -1.4198,Loss D: -0.0302\n",
      "Epoch 165, Loss G: -1.3585,Loss D: -0.1768\n",
      "Epoch 166, Loss G: -1.3622,Loss D:  0.0891\n",
      "Epoch 167, Loss G: -1.3744,Loss D:  0.0313\n",
      "Epoch 168, Loss G: -1.4882,Loss D: -0.0591\n",
      "Epoch 169, Loss G: -1.5339,Loss D: -0.0440\n",
      "Epoch 170, Loss G: -1.5029,Loss D: -0.1334\n",
      "Epoch 171, Loss G: -1.5687,Loss D: -0.1551\n",
      "Epoch 172, Loss G: -1.4614,Loss D: -0.1900\n",
      "Epoch 173, Loss G: -1.6069,Loss D: -0.0118\n",
      "Epoch 174, Loss G: -1.3946,Loss D: -0.1053\n",
      "Epoch 175, Loss G: -1.5187,Loss D: -0.0137\n",
      "Epoch 176, Loss G: -1.5361,Loss D: -0.0298\n",
      "Epoch 177, Loss G: -1.4496,Loss D:  0.0048\n",
      "Epoch 178, Loss G: -1.5045,Loss D: -0.1625\n",
      "Epoch 179, Loss G: -1.5462,Loss D: -0.0733\n",
      "Epoch 180, Loss G: -1.5448,Loss D:  0.0497\n",
      "Epoch 181, Loss G: -1.4854,Loss D: -0.0394\n",
      "Epoch 182, Loss G: -1.5211,Loss D: -0.1892\n",
      "Epoch 183, Loss G: -1.4946,Loss D: -0.0970\n",
      "Epoch 184, Loss G: -1.4065,Loss D: -0.0073\n",
      "Epoch 185, Loss G: -1.5354,Loss D: -0.0336\n",
      "Epoch 186, Loss G: -1.3663,Loss D:  0.0721\n",
      "Epoch 187, Loss G: -1.4166,Loss D: -0.1632\n",
      "Epoch 188, Loss G: -1.3471,Loss D: -0.0141\n",
      "Epoch 189, Loss G: -1.4845,Loss D: -0.0420\n",
      "Epoch 190, Loss G: -1.3695,Loss D: -0.1226\n",
      "Epoch 191, Loss G: -1.2517,Loss D: -0.2011\n",
      "Epoch 192, Loss G: -1.3549,Loss D: -0.1349\n",
      "Epoch 193, Loss G: -1.5195,Loss D:  0.0974\n",
      "Epoch 194, Loss G: -1.4197,Loss D:  0.1308\n",
      "Epoch 195, Loss G: -1.4245,Loss D:  0.0145\n",
      "Epoch 196, Loss G: -1.4085,Loss D: -0.0880\n",
      "Epoch 197, Loss G: -1.4157,Loss D: -0.0122\n",
      "Epoch 198, Loss G: -1.5221,Loss D: -0.0150\n",
      "Epoch 199, Loss G: -1.4487,Loss D:  0.0106\n",
      "Epoch 200, Loss G: -1.4406,Loss D: -0.0970\n",
      "Epoch 201, Loss G: -1.4702,Loss D: -0.0886\n",
      "Epoch 202, Loss G: -1.5955,Loss D:  0.0696\n",
      "Epoch 203, Loss G: -1.4676,Loss D: -0.0334\n",
      "Epoch 204, Loss G: -1.4321,Loss D: -0.0643\n",
      "Epoch 205, Loss G: -1.5055,Loss D: -0.0346\n",
      "Epoch 206, Loss G: -1.5833,Loss D: -0.0871\n",
      "Epoch 207, Loss G: -1.4625,Loss D: -0.1975\n",
      "Epoch 208, Loss G: -1.5077,Loss D: -0.1250\n",
      "Epoch 209, Loss G: -1.5359,Loss D: -0.0675\n",
      "Epoch 210, Loss G: -1.5743,Loss D:  0.0022\n",
      "Epoch 211, Loss G: -1.5480,Loss D: -0.0189\n",
      "Epoch 212, Loss G: -1.5926,Loss D:  0.0170\n",
      "Epoch 213, Loss G: -1.5081,Loss D:  0.0031\n",
      "Epoch 214, Loss G: -1.5648,Loss D:  0.0022\n",
      "Epoch 215, Loss G: -1.4154,Loss D: -0.0488\n",
      "Epoch 216, Loss G: -1.4370,Loss D: -0.3406\n",
      "Epoch 217, Loss G: -1.4581,Loss D: -0.0745\n",
      "Epoch 218, Loss G: -1.4046,Loss D: -0.0050\n",
      "Epoch 219, Loss G: -1.4410,Loss D: -0.0488\n",
      "Epoch 220, Loss G: -1.4692,Loss D: -0.0242\n",
      "Epoch 221, Loss G: -1.6024,Loss D: -0.0229\n",
      "Epoch 222, Loss G: -1.5772,Loss D:  0.0407\n",
      "Epoch 223, Loss G: -1.5772,Loss D: -0.1247\n",
      "Epoch 224, Loss G: -1.4666,Loss D: -0.1654\n",
      "Epoch 225, Loss G: -1.4574,Loss D: -0.0890\n",
      "Epoch 226, Loss G: -1.3882,Loss D: -0.0506\n",
      "Epoch 227, Loss G: -1.4558,Loss D: -0.0555\n",
      "Epoch 228, Loss G: -1.5330,Loss D: -0.0228\n",
      "Epoch 229, Loss G: -1.4452,Loss D: -0.0315\n",
      "Epoch 230, Loss G: -1.5330,Loss D: -0.1497\n",
      "Epoch 231, Loss G: -1.5261,Loss D: -0.1220\n",
      "Epoch 232, Loss G: -1.4803,Loss D:  0.0520\n",
      "Epoch 233, Loss G: -1.5131,Loss D: -0.0266\n",
      "Epoch 234, Loss G: -1.5152,Loss D: -0.1239\n",
      "Epoch 235, Loss G: -1.5452,Loss D: -0.0180\n",
      "Epoch 236, Loss G: -1.5859,Loss D:  0.1046\n",
      "Epoch 237, Loss G: -1.5860,Loss D:  0.0059\n",
      "Epoch 238, Loss G: -1.5276,Loss D:  0.0515\n",
      "Epoch 239, Loss G: -1.5994,Loss D: -0.0732\n",
      "Epoch 240, Loss G: -1.5015,Loss D: -0.0376\n",
      "Epoch 241, Loss G: -1.5247,Loss D:  0.0051\n",
      "Epoch 242, Loss G: -1.5333,Loss D: -0.0666\n",
      "Epoch 243, Loss G: -1.5847,Loss D:  0.0839\n",
      "Epoch 244, Loss G: -1.5232,Loss D:  0.0497\n",
      "Epoch 245, Loss G: -1.5120,Loss D: -0.0435\n",
      "Epoch 246, Loss G: -1.4766,Loss D: -0.0519\n",
      "Epoch 247, Loss G: -1.5668,Loss D: -0.0772\n",
      "Epoch 248, Loss G: -1.5503,Loss D: -0.0216\n",
      "Epoch 249, Loss G: -1.6376,Loss D: -0.0247\n",
      "Epoch 250, Loss G: -1.4415,Loss D: -0.0207\n",
      "Epoch 251, Loss G: -1.5685,Loss D: -0.0786\n",
      "Epoch 252, Loss G: -1.5644,Loss D: -0.1435\n",
      "Epoch 253, Loss G: -1.5071,Loss D:  0.0492\n",
      "Epoch 254, Loss G: -1.6009,Loss D:  0.0794\n",
      "Epoch 255, Loss G: -1.5924,Loss D:  0.0944\n",
      "Epoch 256, Loss G: -1.5093,Loss D: -0.0156\n",
      "Epoch 257, Loss G: -1.4849,Loss D: -0.1373\n",
      "Epoch 258, Loss G: -1.5198,Loss D: -0.0705\n",
      "Epoch 259, Loss G: -1.5589,Loss D: -0.0156\n",
      "Epoch 260, Loss G: -1.5171,Loss D:  0.0670\n",
      "Epoch 261, Loss G: -1.5388,Loss D: -0.0523\n",
      "Epoch 262, Loss G: -1.4489,Loss D:  0.0955\n",
      "Epoch 263, Loss G: -1.5489,Loss D:  0.0897\n",
      "Epoch 264, Loss G: -1.5168,Loss D: -0.0195\n",
      "Epoch 265, Loss G: -1.5758,Loss D:  0.0244\n",
      "Epoch 266, Loss G: -1.5527,Loss D:  0.0395\n",
      "Epoch 267, Loss G: -1.4738,Loss D: -0.0683\n",
      "Epoch 268, Loss G: -1.5347,Loss D: -0.0977\n",
      "Epoch 269, Loss G: -1.5502,Loss D: -0.1110\n",
      "Epoch 270, Loss G: -1.5077,Loss D: -0.0396\n",
      "Epoch 271, Loss G: -1.6868,Loss D: -0.0469\n",
      "Epoch 272, Loss G: -1.5816,Loss D:  0.0175\n",
      "Epoch 273, Loss G: -1.7337,Loss D: -0.0298\n",
      "Epoch 274, Loss G: -1.7297,Loss D:  0.0981\n",
      "Epoch 275, Loss G: -1.6879,Loss D:  0.0105\n",
      "Epoch 276, Loss G: -1.6655,Loss D:  0.0788\n",
      "Epoch 277, Loss G: -1.6021,Loss D: -0.1470\n",
      "Epoch 278, Loss G: -1.5270,Loss D: -0.1031\n",
      "Epoch 279, Loss G: -1.5543,Loss D: -0.0841\n",
      "Epoch 280, Loss G: -1.5857,Loss D: -0.1564\n",
      "Epoch 281, Loss G: -1.6097,Loss D: -0.1473\n",
      "Epoch 282, Loss G: -1.6369,Loss D: -0.0525\n",
      "Epoch 283, Loss G: -1.6023,Loss D: -0.0485\n",
      "Epoch 284, Loss G: -1.7446,Loss D:  0.0363\n",
      "Epoch 285, Loss G: -1.8154,Loss D:  0.0112\n",
      "Epoch 286, Loss G: -1.7308,Loss D:  0.0356\n",
      "Epoch 287, Loss G: -1.6244,Loss D: -0.0011\n",
      "Epoch 288, Loss G: -1.7183,Loss D: -0.0740\n",
      "Epoch 289, Loss G: -1.6784,Loss D:  0.0183\n",
      "Epoch 290, Loss G: -1.6963,Loss D: -0.0448\n",
      "Epoch 291, Loss G: -1.7806,Loss D: -0.2181\n",
      "Epoch 292, Loss G: -1.5717,Loss D: -0.1195\n",
      "Epoch 293, Loss G: -1.6294,Loss D:  0.0170\n",
      "Epoch 294, Loss G: -1.6065,Loss D: -0.0613\n",
      "Epoch 295, Loss G: -1.5825,Loss D: -0.0576\n",
      "Epoch 296, Loss G: -1.6278,Loss D: -0.0529\n",
      "Epoch 297, Loss G: -1.5353,Loss D: -0.0448\n",
      "Epoch 298, Loss G: -1.6454,Loss D: -0.0261\n",
      "Epoch 299, Loss G: -1.6008,Loss D: -0.0293\n",
      "Epoch 300, Loss G: -1.6872,Loss D: -0.0717\n",
      "Epoch 301, Loss G: -1.6990,Loss D: -0.0360\n",
      "Epoch 302, Loss G: -1.7893,Loss D:  0.0250\n",
      "Epoch 303, Loss G: -1.7829,Loss D: -0.0240\n",
      "Epoch 304, Loss G: -1.8751,Loss D:  0.0255\n",
      "Epoch 305, Loss G: -1.9758,Loss D:  0.1238\n",
      "Epoch 306, Loss G: -1.8546,Loss D: -0.0066\n",
      "Epoch 307, Loss G: -1.8719,Loss D:  0.0359\n",
      "Epoch 308, Loss G: -1.8323,Loss D:  0.0255\n",
      "Epoch 309, Loss G: -1.8622,Loss D: -0.0007\n",
      "Epoch 310, Loss G: -1.8111,Loss D: -0.0619\n",
      "Epoch 311, Loss G: -1.7811,Loss D: -0.1303\n",
      "Epoch 312, Loss G: -1.7999,Loss D: -0.0210\n",
      "Epoch 313, Loss G: -1.7413,Loss D: -0.0278\n",
      "Epoch 314, Loss G: -1.7617,Loss D:  0.1544\n",
      "Epoch 315, Loss G: -1.7997,Loss D: -0.0268\n",
      "Epoch 316, Loss G: -1.7682,Loss D:  0.1859\n",
      "Epoch 317, Loss G: -1.7295,Loss D:  0.0187\n",
      "Epoch 318, Loss G: -1.7662,Loss D:  0.1100\n",
      "Epoch 319, Loss G: -1.8151,Loss D: -0.1631\n",
      "Epoch 320, Loss G: -1.7105,Loss D: -0.1489\n",
      "Epoch 321, Loss G: -1.7384,Loss D: -0.0311\n",
      "Epoch 322, Loss G: -1.8250,Loss D: -0.0642\n",
      "Epoch 323, Loss G: -1.9075,Loss D:  0.0271\n",
      "Epoch 324, Loss G: -2.0681,Loss D: -0.0170\n",
      "Epoch 325, Loss G: -1.9669,Loss D:  0.0825\n",
      "Epoch 326, Loss G: -1.9413,Loss D:  0.0159\n",
      "Epoch 327, Loss G: -2.0150,Loss D: -0.0272\n",
      "Epoch 328, Loss G: -1.9282,Loss D:  0.0517\n",
      "Epoch 329, Loss G: -1.8862,Loss D: -0.0684\n",
      "Epoch 330, Loss G: -1.9126,Loss D:  0.1182\n",
      "Epoch 331, Loss G: -1.9418,Loss D:  0.0043\n",
      "Epoch 332, Loss G: -1.8846,Loss D:  0.0351\n",
      "Epoch 333, Loss G: -1.8212,Loss D:  0.0316\n",
      "Epoch 334, Loss G: -1.8485,Loss D:  0.0613\n",
      "Epoch 335, Loss G: -1.9550,Loss D: -0.1011\n",
      "Epoch 336, Loss G: -1.8730,Loss D: -0.0747\n",
      "Epoch 337, Loss G: -1.9303,Loss D:  0.0108\n",
      "Epoch 338, Loss G: -1.9890,Loss D:  0.1044\n",
      "Epoch 339, Loss G: -1.9689,Loss D:  0.0168\n",
      "Epoch 340, Loss G: -1.9909,Loss D: -0.0371\n",
      "Epoch 341, Loss G: -1.9502,Loss D: -0.0140\n",
      "Epoch 342, Loss G: -2.0716,Loss D:  0.1052\n",
      "Epoch 343, Loss G: -1.9751,Loss D: -0.0002\n",
      "Epoch 344, Loss G: -1.9938,Loss D: -0.0259\n",
      "Epoch 345, Loss G: -1.8975,Loss D:  0.0485\n",
      "Epoch 346, Loss G: -1.9056,Loss D:  0.0019\n",
      "Epoch 347, Loss G: -1.9587,Loss D: -0.0135\n",
      "Epoch 348, Loss G: -1.8594,Loss D: -0.0471\n",
      "Epoch 349, Loss G: -1.8296,Loss D:  0.0375\n",
      "Epoch 350, Loss G: -1.8257,Loss D:  0.0860\n",
      "Epoch 351, Loss G: -1.8377,Loss D: -0.0520\n",
      "Epoch 352, Loss G: -1.9208,Loss D: -0.0368\n",
      "Epoch 353, Loss G: -1.8002,Loss D: -0.0226\n",
      "Epoch 354, Loss G: -1.9559,Loss D: -0.0112\n",
      "Epoch 355, Loss G: -1.8506,Loss D: -0.0186\n",
      "Epoch 356, Loss G: -1.8993,Loss D:  0.0933\n",
      "Epoch 357, Loss G: -1.8850,Loss D:  0.0028\n",
      "Epoch 358, Loss G: -1.9927,Loss D: -0.0160\n",
      "Epoch 359, Loss G: -2.0205,Loss D:  0.0087\n",
      "Epoch 360, Loss G: -1.9447,Loss D: -0.0665\n",
      "Epoch 361, Loss G: -1.9564,Loss D: -0.0060\n",
      "Epoch 362, Loss G: -2.0082,Loss D:  0.0214\n",
      "Epoch 363, Loss G: -2.0468,Loss D:  0.0451\n",
      "Epoch 364, Loss G: -2.0998,Loss D:  0.0174\n",
      "Epoch 365, Loss G: -2.0439,Loss D:  0.0612\n",
      "Epoch 366, Loss G: -1.9154,Loss D:  0.0272\n",
      "Epoch 367, Loss G: -1.9225,Loss D:  0.1417\n",
      "Epoch 368, Loss G: -1.8798,Loss D: -0.0234\n",
      "Epoch 369, Loss G: -1.9844,Loss D:  0.0176\n",
      "Epoch 370, Loss G: -1.9454,Loss D:  0.0241\n",
      "Epoch 371, Loss G: -2.0331,Loss D:  0.0727\n",
      "Epoch 372, Loss G: -2.0190,Loss D:  0.0747\n",
      "Epoch 373, Loss G: -1.9734,Loss D:  0.0258\n",
      "Epoch 374, Loss G: -2.0780,Loss D: -0.0683\n",
      "Epoch 375, Loss G: -2.0185,Loss D:  0.0308\n",
      "Epoch 376, Loss G: -1.9449,Loss D: -0.0175\n",
      "Epoch 377, Loss G: -1.9620,Loss D:  0.0737\n",
      "Epoch 378, Loss G: -1.9919,Loss D:  0.0712\n",
      "Epoch 379, Loss G: -2.0610,Loss D:  0.0895\n",
      "Epoch 380, Loss G: -2.0388,Loss D:  0.0914\n",
      "Epoch 381, Loss G: -2.0219,Loss D:  0.1199\n",
      "Epoch 382, Loss G: -2.0472,Loss D:  0.0750\n",
      "Epoch 383, Loss G: -2.0535,Loss D: -0.1263\n",
      "Epoch 384, Loss G: -1.8537,Loss D: -0.0264\n",
      "Epoch 385, Loss G: -1.8194,Loss D: -0.0723\n",
      "Epoch 386, Loss G: -1.9560,Loss D:  0.0291\n",
      "Epoch 387, Loss G: -1.9130,Loss D:  0.0380\n",
      "Epoch 388, Loss G: -1.9908,Loss D: -0.0008\n",
      "Epoch 389, Loss G: -2.0011,Loss D:  0.0299\n",
      "Epoch 390, Loss G: -1.9630,Loss D:  0.0893\n",
      "Epoch 391, Loss G: -1.9467,Loss D: -0.0074\n",
      "Epoch 392, Loss G: -1.9314,Loss D:  0.0144\n",
      "Epoch 393, Loss G: -1.9248,Loss D:  0.1015\n",
      "Epoch 394, Loss G: -1.8833,Loss D: -0.0014\n",
      "Epoch 395, Loss G: -1.9013,Loss D:  0.0167\n",
      "Epoch 396, Loss G: -1.9882,Loss D:  0.0353\n",
      "Epoch 397, Loss G: -1.9244,Loss D: -0.0442\n",
      "Epoch 398, Loss G: -1.9664,Loss D:  0.1083\n",
      "Epoch 399, Loss G: -1.8996,Loss D:  0.0267\n",
      "Epoch 400, Loss G: -1.9249,Loss D:  0.1308\n",
      "Epoch 401, Loss G: -2.0418,Loss D:  0.1116\n",
      "Epoch 402, Loss G: -1.9490,Loss D:  0.0656\n",
      "Epoch 403, Loss G: -1.8985,Loss D:  0.0158\n",
      "Epoch 404, Loss G: -1.9798,Loss D:  0.0575\n",
      "Epoch 405, Loss G: -1.8699,Loss D: -0.0587\n",
      "Epoch 406, Loss G: -1.8931,Loss D: -0.0156\n",
      "Epoch 407, Loss G: -1.9323,Loss D:  0.0328\n",
      "Epoch 408, Loss G: -2.0415,Loss D: -0.0014\n",
      "Epoch 409, Loss G: -1.9087,Loss D: -0.0516\n",
      "Epoch 410, Loss G: -1.9859,Loss D:  0.0756\n",
      "Epoch 411, Loss G: -1.9182,Loss D:  0.0139\n",
      "Epoch 412, Loss G: -2.0490,Loss D:  0.1010\n",
      "Epoch 413, Loss G: -1.9946,Loss D:  0.0444\n",
      "Epoch 414, Loss G: -2.0219,Loss D:  0.0380\n",
      "Epoch 415, Loss G: -2.0426,Loss D: -0.0770\n",
      "Epoch 416, Loss G: -2.0377,Loss D: -0.0488\n",
      "Epoch 417, Loss G: -1.9111,Loss D: -0.0240\n",
      "Epoch 418, Loss G: -2.0155,Loss D: -0.1143\n",
      "Epoch 419, Loss G: -2.0399,Loss D: -0.0284\n",
      "Epoch 420, Loss G: -1.9207,Loss D: -0.0217\n",
      "Epoch 421, Loss G: -1.9223,Loss D:  0.1241\n",
      "Epoch 422, Loss G: -1.9876,Loss D:  0.0097\n",
      "Epoch 423, Loss G: -1.9771,Loss D: -0.0630\n",
      "Epoch 424, Loss G: -1.9558,Loss D: -0.0297\n",
      "Epoch 425, Loss G: -1.8883,Loss D: -0.0220\n",
      "Epoch 426, Loss G: -2.0303,Loss D:  0.0154\n",
      "Epoch 427, Loss G: -1.9250,Loss D: -0.0539\n",
      "Epoch 428, Loss G: -1.9008,Loss D:  0.0369\n",
      "Epoch 429, Loss G: -1.9593,Loss D: -0.1534\n",
      "Epoch 430, Loss G: -1.9719,Loss D: -0.1085\n",
      "Epoch 431, Loss G: -2.0468,Loss D:  0.0064\n",
      "Epoch 432, Loss G: -2.1263,Loss D:  0.0231\n",
      "Epoch 433, Loss G: -2.0742,Loss D:  0.0980\n",
      "Epoch 434, Loss G: -2.0106,Loss D: -0.0681\n",
      "Epoch 435, Loss G: -2.0111,Loss D:  0.0438\n",
      "Epoch 436, Loss G: -2.0121,Loss D: -0.0193\n",
      "Epoch 437, Loss G: -1.9938,Loss D: -0.0821\n",
      "Epoch 438, Loss G: -2.0261,Loss D:  0.0094\n",
      "Epoch 439, Loss G: -1.9547,Loss D: -0.0331\n",
      "Epoch 440, Loss G: -1.9520,Loss D: -0.0525\n",
      "Epoch 441, Loss G: -1.9328,Loss D:  0.0925\n",
      "Epoch 442, Loss G: -1.9500,Loss D:  0.0604\n",
      "Epoch 443, Loss G: -1.9380,Loss D: -0.0435\n",
      "Epoch 444, Loss G: -2.0533,Loss D: -0.0253\n",
      "Epoch 445, Loss G: -1.9790,Loss D: -0.0101\n",
      "Epoch 446, Loss G: -2.0827,Loss D:  0.0366\n",
      "Epoch 447, Loss G: -2.0249,Loss D:  0.0733\n",
      "Epoch 448, Loss G: -2.0079,Loss D: -0.0627\n",
      "Epoch 449, Loss G: -2.0180,Loss D:  0.0113\n",
      "Epoch 450, Loss G: -1.9661,Loss D:  0.0051\n",
      "Epoch 451, Loss G: -2.0124,Loss D: -0.0509\n",
      "Epoch 452, Loss G: -1.8899,Loss D: -0.0863\n",
      "Epoch 453, Loss G: -1.9310,Loss D: -0.0151\n",
      "Epoch 454, Loss G: -1.9806,Loss D: -0.1163\n",
      "Epoch 455, Loss G: -1.9049,Loss D:  0.0677\n",
      "Epoch 456, Loss G: -1.8800,Loss D:  0.0096\n",
      "Epoch 457, Loss G: -1.9399,Loss D:  0.0824\n",
      "Epoch 458, Loss G: -1.9119,Loss D:  0.0868\n",
      "Epoch 459, Loss G: -1.9722,Loss D:  0.0274\n",
      "Epoch 460, Loss G: -1.9732,Loss D: -0.0725\n",
      "Epoch 461, Loss G: -2.0210,Loss D: -0.1067\n",
      "Epoch 462, Loss G: -1.9184,Loss D:  0.1425\n",
      "Epoch 463, Loss G: -1.9708,Loss D: -0.0470\n",
      "Epoch 464, Loss G: -2.1120,Loss D:  0.1070\n",
      "Epoch 465, Loss G: -2.1671,Loss D:  0.0417\n",
      "Epoch 466, Loss G: -2.1379,Loss D: -0.0616\n",
      "Epoch 467, Loss G: -2.0816,Loss D:  0.0352\n",
      "Epoch 468, Loss G: -2.1678,Loss D:  0.0234\n",
      "Epoch 469, Loss G: -2.0988,Loss D:  0.0417\n",
      "Epoch 470, Loss G: -2.1348,Loss D:  0.1801\n",
      "Epoch 471, Loss G: -2.0278,Loss D: -0.0074\n",
      "Epoch 472, Loss G: -1.9931,Loss D: -0.0908\n",
      "Epoch 473, Loss G: -1.8978,Loss D:  0.0139\n",
      "Epoch 474, Loss G: -1.9378,Loss D: -0.0702\n",
      "Epoch 475, Loss G: -1.9718,Loss D: -0.0100\n",
      "Epoch 476, Loss G: -1.9352,Loss D:  0.0743\n",
      "Epoch 477, Loss G: -1.9321,Loss D: -0.0044\n",
      "Epoch 478, Loss G: -1.9565,Loss D: -0.0195\n",
      "Epoch 479, Loss G: -1.9684,Loss D: -0.0497\n",
      "Epoch 480, Loss G: -1.9463,Loss D: -0.0792\n",
      "Epoch 481, Loss G: -2.0959,Loss D: -0.0001\n",
      "Epoch 482, Loss G: -2.0384,Loss D:  0.0688\n",
      "Epoch 483, Loss G: -2.0972,Loss D: -0.0566\n",
      "Epoch 484, Loss G: -2.1720,Loss D: -0.1045\n",
      "Epoch 485, Loss G: -2.0517,Loss D:  0.0273\n",
      "Epoch 486, Loss G: -2.0464,Loss D:  0.0125\n",
      "Epoch 487, Loss G: -2.0258,Loss D:  0.0278\n",
      "Epoch 488, Loss G: -2.0391,Loss D:  0.0234\n",
      "Epoch 489, Loss G: -2.0701,Loss D: -0.0178\n",
      "Epoch 490, Loss G: -2.0767,Loss D: -0.0174\n",
      "Epoch 491, Loss G: -2.0214,Loss D:  0.0544\n",
      "Epoch 492, Loss G: -2.0081,Loss D: -0.0448\n",
      "Epoch 493, Loss G: -2.0554,Loss D: -0.0030\n",
      "Epoch 494, Loss G: -2.0289,Loss D:  0.0426\n",
      "Epoch 495, Loss G: -2.0238,Loss D: -0.0341\n",
      "Epoch 496, Loss G: -1.9988,Loss D: -0.0362\n",
      "Epoch 497, Loss G: -2.0217,Loss D: -0.0765\n",
      "Epoch 498, Loss G: -2.0692,Loss D:  0.1237\n",
      "Epoch 499, Loss G: -2.0723,Loss D:  0.0807\n",
      "Epoch 500, Loss G: -2.0549,Loss D:  0.0413\n"
     ]
    }
   ],
   "source": [
    "from sdv.single_table import CTGANSynthesizer\n",
    "\n",
    "ctgan = CTGANSynthesizer(\n",
    "    metadata,\n",
    "    enforce_rounding = False,\n",
    "    epochs = 500,\n",
    "    verbose = True,\n",
    "    cuda = True\n",
    ")\n",
    "\n",
    "ctgan.fit(train_df)"
   ]
  },
  {
   "cell_type": "code",
   "execution_count": 156,
   "metadata": {},
   "outputs": [
    {
     "name": "stderr",
     "output_type": "stream",
     "text": [
      "Sampling rows: : 2800it [00:00, 3043.48it/s]                        \n"
     ]
    },
    {
     "name": "stdout",
     "output_type": "stream",
     "text": [
      "Generating report ...\n",
      "(1/3) Evaluating Coverage: : 100%|██████████| 10/10 [00:00<00:00, 3333.57it/s]\n",
      "(2/3) Evaluating Boundary: : 100%|██████████| 10/10 [00:00<00:00, 2501.22it/s]\n",
      "(3/3) Evaluating Synthesis: : 100%|██████████| 1/1 [00:12<00:00, 12.01s/it]\n",
      "\n",
      "Diagnostic Results:\n",
      "\n",
      "SUCCESS:\n",
      "✓ The synthetic data covers over 90% of the categories present in the real data\n",
      "✓ The synthetic data follows over 90% of the min/max boundaries set by the real data\n",
      "✓ Over 90% of the synthetic rows are not copies of the real data\n",
      "\n",
      "WARNING:\n",
      "! The synthetic data is missing more than 10% of the numerical ranges present in the real data\n"
     ]
    }
   ],
   "source": [
    "from sdv.evaluation.single_table import run_diagnostic\n",
    "\n",
    "train_synthetic = ctgan.sample(\n",
    "    batch_size = 100,\n",
    "    num_rows = 2701\n",
    ")\n",
    "\n",
    "diagnostic_ctgan = run_diagnostic(\n",
    "    real_data = train_df,\n",
    "    synthetic_data = train_synthetic,\n",
    "    metadata = metadata\n",
    ")"
   ]
  },
  {
   "cell_type": "code",
   "execution_count": 157,
   "metadata": {},
   "outputs": [
    {
     "name": "stdout",
     "output_type": "stream",
     "text": [
      "Generating report ...\n",
      "(1/2) Evaluating Column Shapes: : 100%|██████████| 10/10 [00:00<00:00, 175.44it/s]\n",
      "(2/2) Evaluating Column Pair Trends: : 100%|██████████| 45/45 [00:00<00:00, 179.28it/s]\n",
      "\n",
      "Overall Quality Score: 81.83%\n",
      "\n",
      "Properties:\n",
      "- Column Shapes: 90.34%\n",
      "- Column Pair Trends: 73.31%\n"
     ]
    }
   ],
   "source": [
    "from sdv.evaluation.single_table import evaluate_quality\n",
    "\n",
    "ctgan_quality = evaluate_quality(\n",
    "    real_data = train_df,\n",
    "    synthetic_data = train_synthetic,\n",
    "    metadata=metadata)"
   ]
  },
  {
   "cell_type": "code",
   "execution_count": 158,
   "metadata": {},
   "outputs": [],
   "source": [
    "# Augment original training set\n",
    "train_augmented = pd.concat([train_df, train_synthetic], axis = 0)"
   ]
  },
  {
   "cell_type": "markdown",
   "metadata": {},
   "source": [
    "Compare distributions"
   ]
  },
  {
   "cell_type": "code",
   "execution_count": 159,
   "metadata": {},
   "outputs": [
    {
     "data": {
      "text/plain": [
       "array([[<AxesSubplot: title={'center': 'Facies'}>,\n",
       "        <AxesSubplot: title={'center': 'Depth'}>,\n",
       "        <AxesSubplot: title={'center': 'GR'}>],\n",
       "       [<AxesSubplot: title={'center': 'ILD_log10'}>,\n",
       "        <AxesSubplot: title={'center': 'DeltaPHI'}>,\n",
       "        <AxesSubplot: title={'center': 'PHIND'}>],\n",
       "       [<AxesSubplot: title={'center': 'PE'}>,\n",
       "        <AxesSubplot: title={'center': 'NM_M'}>,\n",
       "        <AxesSubplot: title={'center': 'RELPOS'}>]], dtype=object)"
      ]
     },
     "execution_count": 159,
     "metadata": {},
     "output_type": "execute_result"
    },
    {
     "data": {
      "image/png": "[encoded data removed]",
      "text/plain": [
       "<Figure size 540x540 with 9 Axes>"
      ]
     },
     "metadata": {
      "needs_background": "light"
     },
     "output_type": "display_data"
    }
   ],
   "source": [
    "train_df.drop('Index', axis = 1).hist(bins = 75, figsize = (7.5,7.5), color = 'skyblue')"
   ]
  },
  {
   "cell_type": "code",
   "execution_count": 160,
   "metadata": {},
   "outputs": [
    {
     "data": {
      "text/plain": [
       "array([[<AxesSubplot: title={'center': 'Facies'}>,\n",
       "        <AxesSubplot: title={'center': 'Depth'}>,\n",
       "        <AxesSubplot: title={'center': 'GR'}>],\n",
       "       [<AxesSubplot: title={'center': 'ILD_log10'}>,\n",
       "        <AxesSubplot: title={'center': 'DeltaPHI'}>,\n",
       "        <AxesSubplot: title={'center': 'PHIND'}>],\n",
       "       [<AxesSubplot: title={'center': 'PE'}>,\n",
       "        <AxesSubplot: title={'center': 'NM_M'}>,\n",
       "        <AxesSubplot: title={'center': 'RELPOS'}>]], dtype=object)"
      ]
     },
     "execution_count": 160,
     "metadata": {},
     "output_type": "execute_result"
    },
    {
     "data": {
      "image/png": "[encoded data removed]",
      "text/plain": [
       "<Figure size 540x540 with 9 Axes>"
      ]
     },
     "metadata": {
      "needs_background": "light"
     },
     "output_type": "display_data"
    }
   ],
   "source": [
    "train_synthetic.drop('Index', axis = 1).hist(bins = 75, figsize = (7.5,7.5), color = 'darkred')"
   ]
  },
  {
   "cell_type": "code",
   "execution_count": 161,
   "metadata": {},
   "outputs": [
    {
     "data": {
      "text/plain": [
       "array([[<AxesSubplot: title={'center': 'Facies'}>,\n",
       "        <AxesSubplot: title={'center': 'Depth'}>,\n",
       "        <AxesSubplot: title={'center': 'GR'}>],\n",
       "       [<AxesSubplot: title={'center': 'ILD_log10'}>,\n",
       "        <AxesSubplot: title={'center': 'DeltaPHI'}>,\n",
       "        <AxesSubplot: title={'center': 'PHIND'}>],\n",
       "       [<AxesSubplot: title={'center': 'PE'}>,\n",
       "        <AxesSubplot: title={'center': 'NM_M'}>,\n",
       "        <AxesSubplot: title={'center': 'RELPOS'}>]], dtype=object)"
      ]
     },
     "execution_count": 161,
     "metadata": {},
     "output_type": "execute_result"
    },
    {
     "data": {
      "image/png": "[encoded data removed]",
      "text/plain": [
       "<Figure size 540x540 with 9 Axes>"
      ]
     },
     "metadata": {
      "needs_background": "light"
     },
     "output_type": "display_data"
    }
   ],
   "source": [
    "train_augmented.drop('Index', axis = 1).hist(bins = 75, figsize = (7.5,7.5), color = 'purple')"
   ]
  },
  {
   "cell_type": "code",
   "execution_count": 162,
   "metadata": {},
   "outputs": [],
   "source": [
    "train_df = train_df.drop('Index', axis = 1)\n",
    "train_augmented = train_augmented.drop('Index', axis = 1)"
   ]
  },
  {
   "cell_type": "code",
   "execution_count": 163,
   "metadata": {},
   "outputs": [],
   "source": [
    "train_x = train_df.drop('Facies', axis = 1)\n",
    "train_y = train_df['Facies']\n",
    "\n",
    "aug_x = train_augmented.drop('Facies', axis = 1)\n",
    "aug_y = train_augmented['Facies']\n",
    "\n",
    "test_x = test_df.drop('Facies', axis = 1)\n",
    "test_y = test_df['Facies']\n",
    "\n",
    "val_x = val_df.drop('Facies', axis = 1)\n",
    "val_y = val_df['Facies']"
   ]
  },
  {
   "cell_type": "code",
   "execution_count": 164,
   "metadata": {},
   "outputs": [
    {
     "data": {
      "text/plain": [
       "2517    2\n",
       "377     8\n",
       "1864    8\n",
       "191     6\n",
       "1362    6\n",
       "       ..\n",
       "882     6\n",
       "1132    8\n",
       "2108    2\n",
       "1323    6\n",
       "1039    8\n",
       "Name: Facies, Length: 647, dtype: int64"
      ]
     },
     "execution_count": 164,
     "metadata": {},
     "output_type": "execute_result"
    }
   ],
   "source": [
    "test_y"
   ]
  },
  {
   "cell_type": "code",
   "execution_count": 179,
   "metadata": {},
   "outputs": [],
   "source": [
    "# With just train data\n",
    "import numpy as np\n",
    "from sklearn.tree import DecisionTreeClassifier\n",
    "\n",
    "tree_clf = DecisionTreeClassifier().fit(train_x, train_y)"
   ]
  },
  {
   "cell_type": "code",
   "execution_count": 184,
   "metadata": {},
   "outputs": [
    {
     "data": {
      "image/png": "[encoded data removed]",
      "text/plain": [
       "<Figure size 432x288 with 2 Axes>"
      ]
     },
     "metadata": {
      "needs_background": "light"
     },
     "output_type": "display_data"
    }
   ],
   "source": [
    "from sklearn.metrics import confusion_matrix, ConfusionMatrixDisplay, precision_score, balanced_accuracy_score\n",
    "import matplotlib.pyplot as plt\n",
    "base_pred = tree_clf.predict(X)\n",
    "cm = confusion_matrix(Y, base_pred, labels= tree_clf.classes_)\n",
    "\n",
    "disp = ConfusionMatrixDisplay(confusion_matrix=cm, display_labels=tree_clf.classes_)\n",
    "disp.plot()\n",
    "plt.show()"
   ]
  },
  {
   "cell_type": "code",
   "execution_count": 186,
   "metadata": {},
   "outputs": [
    {
     "data": {
      "text/plain": [
       "0.8330251974192137"
      ]
     },
     "execution_count": 186,
     "metadata": {},
     "output_type": "execute_result"
    }
   ],
   "source": [
    "balanced_accuracy_score(Y, base_pred)"
   ]
  },
  {
   "cell_type": "code",
   "execution_count": 189,
   "metadata": {},
   "outputs": [
    {
     "data": {
      "image/png": "[encoded data removed]",
      "text/plain": [
       "<Figure size 432x288 with 2 Axes>"
      ]
     },
     "metadata": {
      "needs_background": "light"
     },
     "output_type": "display_data"
    }
   ],
   "source": [
    "\n",
    "tree_clf = DecisionTreeClassifier().fit(aug_x, aug_y)\n",
    "pred2 = tree_clf.predict(X)\n",
    "cm = confusion_matrix(Y, pred2, labels= tree_clf.classes_)\n",
    "\n",
    "disp = ConfusionMatrixDisplay(confusion_matrix=cm, display_labels=tree_clf.classes_)\n",
    "disp.plot()\n",
    "plt.show()"
   ]
  },
  {
   "cell_type": "code",
   "execution_count": 190,
   "metadata": {},
   "outputs": [
    {
     "data": {
      "text/plain": [
       "0.840215323422727"
      ]
     },
     "execution_count": 190,
     "metadata": {},
     "output_type": "execute_result"
    }
   ],
   "source": [
    "balanced_accuracy_score(Y, pred2)"
   ]
  },
  {
   "cell_type": "code",
   "execution_count": 60,
   "metadata": {},
   "outputs": [],
   "source": [
    "from sklearn import datasets\n",
    "from sklearn.metrics import confusion_matrix\n",
    "from sklearn.model_selection import train_test_split\n",
    "iris = datasets.load_iris()\n",
    "\n",
    "X = iris.data\n",
    "y = iris.target\n"
   ]
  },
  {
   "cell_type": "code",
   "execution_count": 178,
   "metadata": {},
   "outputs": [],
   "source": [
    "X = pd.concat([test_x, val_x], axis = 0)\n",
    "Y = pd.concat([test_y, val_y], axis = 0)"
   ]
  },
  {
   "cell_type": "code",
   "execution_count": null,
   "metadata": {},
   "outputs": [],
   "source": []
  }
 ],
 "metadata": {
  "kernelspec": {
   "display_name": "GenAI",
   "language": "python",
   "name": "python3"
  },
  "language_info": {
   "codemirror_mode": {
    "name": "ipython",
    "version": 3
   },
   "file_extension": ".py",
   "mimetype": "text/x-python",
   "name": "python",
   "nbconvert_exporter": "python",
   "pygments_lexer": "ipython3",
   "version": "3.11.5"
  },
  "orig_nbformat": 4
 },
 "nbformat": 4,
 "nbformat_minor": 2
}
